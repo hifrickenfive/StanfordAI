{
 "cells": [
  {
   "cell_type": "code",
   "execution_count": 1,
   "metadata": {},
   "outputs": [
    {
     "name": "stdout",
     "output_type": "stream",
     "text": [
      "[0, 1, 2, 3, 4]\n"
     ]
    }
   ],
   "source": [
    "test = list(range(0,5))\n",
    "print(test)"
   ]
  },
  {
   "cell_type": "code",
   "execution_count": 2,
   "metadata": {},
   "outputs": [
    {
     "name": "stdout",
     "output_type": "stream",
     "text": [
      "3\n"
     ]
    }
   ],
   "source": [
    "print(test[-2])"
   ]
  },
  {
   "cell_type": "code",
   "execution_count": null,
   "metadata": {},
   "outputs": [],
   "source": [
    "if transition == 'S':\n",
    "    removed_word = self.buffer.pop(0)\n",
    "    self.stack.append(removed_word)\n",
    "elif transition == 'LA':\n",
    "    removed_word_LA = self.stack.pop(-2)\n",
    "    self.dependencies.append((self.stack[-1], removed_word_LA))\n",
    "elif transition == 'RA':\n",
    "    removed_word_RA = self.stack.pop(-1)\n",
    "    self.dependencies.append((self.stack[-1], removed_word_RA))          \n",
    "else:\n",
    "    print('Unknown transition. No transition performed.')"
   ]
  }
 ],
 "metadata": {
  "kernelspec": {
   "display_name": "cs224n",
   "language": "python",
   "name": "python3"
  },
  "language_info": {
   "codemirror_mode": {
    "name": "ipython",
    "version": 3
   },
   "file_extension": ".py",
   "mimetype": "text/x-python",
   "name": "python",
   "nbconvert_exporter": "python",
   "pygments_lexer": "ipython3",
   "version": "3.10.8"
  },
  "orig_nbformat": 4,
  "vscode": {
   "interpreter": {
    "hash": "293ac37e7ae77b6e012c549d92909650ef83d1ad0f231f314cb21b4ae9c35f1f"
   }
  }
 },
 "nbformat": 4,
 "nbformat_minor": 2
}
