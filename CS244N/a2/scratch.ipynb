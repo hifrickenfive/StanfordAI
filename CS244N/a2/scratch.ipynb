{
 "cells": [
  {
   "cell_type": "code",
   "execution_count": null,
   "metadata": {},
   "outputs": [],
   "source": []
  },
  {
   "attachments": {},
   "cell_type": "markdown",
   "metadata": {},
   "source": [
    "\\begin{aligned}\n",
    "\\frac{\\partial J\\left(v_{c}, o, U\\right)}{\\partial v_{c}} &=-\\frac{\\partial\\left(u_{o}^{T} v_{c}\\right)}{\\partial v_{c}}+\\frac{\\partial\\left(\\log \\left(\\sum_{w} \\exp \\left(u_{w}^{T} v_{c}\\right)\\right)\\right)}{\\partial v_{c}} \\\\\n",
    "&=-u_{o}+\\frac{1}{\\sum_{w} \\exp \\left(u_{w}^{T} v_{c}\\right)} \\frac{\\partial\\left(\\sum_{w} \\exp \\left(u_{w}^{T} v_{c}\\right)\\right)}{\\partial v_{c}} \\\\\n",
    "&=-u_{o}+\\sum_{w} \\frac{\\exp \\left(u_{w}^{T} v_{c}\\right) u_{w}}{\\sum_{w} \\exp \\left(u_{w}^{T} v_{c}\\right)} \\\\\n",
    "&=-u_{o}+\\sum_{w} p(O=w \\mid C=c) u_{w} \\\\\n",
    "&=-u_{o}+\\sum_{w} \\hat{y}_{w} u_{w} \\\\\n",
    "&=U(\\hat{y}-y)\n",
    "\\end{aligned}"
   ]
  }
 ],
 "metadata": {
  "kernelspec": {
   "display_name": "cs224n",
   "language": "python",
   "name": "python3"
  },
  "language_info": {
   "name": "python",
   "version": "3.10.8 | packaged by conda-forge | (main, Nov 24 2022, 14:07:00) [MSC v.1916 64 bit (AMD64)]"
  },
  "orig_nbformat": 4,
  "vscode": {
   "interpreter": {
    "hash": "293ac37e7ae77b6e012c549d92909650ef83d1ad0f231f314cb21b4ae9c35f1f"
   }
  }
 },
 "nbformat": 4,
 "nbformat_minor": 2
}
