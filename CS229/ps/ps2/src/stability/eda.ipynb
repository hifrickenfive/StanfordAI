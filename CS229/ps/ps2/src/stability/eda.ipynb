{
 "cells": [
  {
   "cell_type": "code",
   "execution_count": 11,
   "metadata": {},
   "outputs": [],
   "source": [
    "import pandas as pd\n",
    "from matplotlib import pyplot as plt\n",
    "import util\n",
    "\n",
    "Xa, Ya = util.load_csv('ds1_a.csv', add_intercept=True)\n",
    "Xb, Yb = util.load_csv('ds1_b.csv', add_intercept=True)\n"
   ]
  },
  {
   "cell_type": "code",
   "execution_count": 12,
   "metadata": {},
   "outputs": [],
   "source": [
    "def plot_points(x, y):\n",
    "    \"\"\"Plot some points where x are the coordinates and y is the label\"\"\"\n",
    "    x_one = x[y == 0, :]\n",
    "    x_two = x[y == 1, :]\n",
    "\n",
    "    plt.scatter(x_one[:,0], x_one[:,1], marker='x', color='red')\n",
    "    plt.scatter(x_two[:,0], x_two[:,1], marker='o', color='blue')\n"
   ]
  },
  {
   "cell_type": "code",
   "execution_count": 30,
   "metadata": {},
   "outputs": [
    {
     "data": {
      "image/png": "[encoded data removed]",
      "text/plain": [
       "<Figure size 432x288 with 1 Axes>"
      ]
     },
     "metadata": {
      "needs_background": "light"
     },
     "output_type": "display_data"
    }
   ],
   "source": [
    "plot_points(Xa[:,1:3], Ya)"
   ]
  },
  {
   "cell_type": "code",
   "execution_count": 29,
   "metadata": {},
   "outputs": [
    {
     "data": {
      "image/png": "[encoded data removed]",
      "text/plain": [
       "<Figure size 432x288 with 1 Axes>"
      ]
     },
     "metadata": {
      "needs_background": "light"
     },
     "output_type": "display_data"
    }
   ],
   "source": [
    "plot_points(Xb[:,1:3], Yb)"
   ]
  },
  {
   "cell_type": "code",
   "execution_count": 28,
   "metadata": {},
   "outputs": [
    {
     "data": {
      "text/plain": [
       "array([[5.95663050e-01, 1.93072137e-01],\n",
       "       [4.36997191e-01, 5.44806521e-01],\n",
       "       [8.99945464e-01, 8.45922435e-01],\n",
       "       [5.55063783e-01, 9.26335783e-03],\n",
       "       [7.46870715e-02, 2.82845135e-01],\n",
       "       [5.56022177e-01, 4.09633286e-01],\n",
       "       [6.79500211e-01, 2.98405780e-04],\n",
       "       [4.71014654e-02, 9.46361349e-01],\n",
       "       [7.23816621e-01, 4.94064705e-01],\n",
       "       [2.44304877e-01, 1.76611656e-01],\n",
       "       [5.97403317e-01, 6.13930642e-01],\n",
       "       [2.06963727e-01, 3.98735739e-01],\n",
       "       [3.22121968e-01, 2.84443051e-01],\n",
       "       [7.44577858e-01, 4.35137707e-01],\n",
       "       [5.45193290e-01, 2.06234101e-01],\n",
       "       [1.69623981e-01, 4.35839233e-03],\n",
       "       [2.33911496e-01, 9.68429592e-01],\n",
       "       [5.62248451e-01, 6.02345573e-01],\n",
       "       [2.80284583e-01, 1.86743612e-01],\n",
       "       [3.07989560e-02, 3.02001073e-01],\n",
       "       [2.27886092e-01, 6.60977674e-01],\n",
       "       [2.77501469e-01, 4.23846846e-01],\n",
       "       [3.37843285e-01, 7.94425477e-01],\n",
       "       [9.93935407e-01, 8.49046560e-01],\n",
       "       [2.86316720e-01, 5.95951290e-02],\n",
       "       [1.20913005e-01, 3.14100666e-01],\n",
       "       [4.00393742e-02, 9.67684569e-01],\n",
       "       [8.08639964e-01, 8.61891813e-01],\n",
       "       [5.53980800e-01, 1.90799626e-02],\n",
       "       [1.16352132e-01, 9.39870918e-01],\n",
       "       [7.30106347e-01, 9.49967649e-01],\n",
       "       [8.46833883e-01, 1.86720875e-01],\n",
       "       [2.60823353e-01, 9.83413263e-01],\n",
       "       [4.19957042e-01, 9.32754192e-01],\n",
       "       [7.71941806e-01, 5.53202313e-01],\n",
       "       [9.20674494e-01, 6.35219223e-01],\n",
       "       [5.29342163e-01, 7.22268458e-01],\n",
       "       [1.37946062e-02, 4.21461830e-01],\n",
       "       [7.75142649e-02, 6.29900417e-01],\n",
       "       [9.27698324e-01, 1.04093462e-01],\n",
       "       [7.95743224e-01, 9.21538897e-01],\n",
       "       [2.23967293e-01, 7.33297448e-02],\n",
       "       [9.42225361e-01, 5.21836619e-01],\n",
       "       [9.65195962e-01, 2.01497937e-01],\n",
       "       [9.94032131e-01, 6.08109302e-01],\n",
       "       [6.65808733e-01, 5.02758385e-01],\n",
       "       [7.17656056e-01, 3.98939136e-02],\n",
       "       [3.48706311e-01, 2.23823188e-01],\n",
       "       [2.70949462e-01, 2.08214421e-01],\n",
       "       [3.18257310e-01, 3.91589634e-01],\n",
       "       [8.27485488e-01, 7.26499254e-01],\n",
       "       [5.36236507e-01, 4.37289101e-01],\n",
       "       [8.42762416e-02, 4.11350686e-01],\n",
       "       [6.70107418e-01, 4.53631727e-01],\n",
       "       [8.54460214e-01, 2.73516644e-01],\n",
       "       [9.94942637e-01, 7.08048915e-01],\n",
       "       [9.34445751e-01, 4.62829445e-01],\n",
       "       [2.74870186e-01, 8.68956473e-01],\n",
       "       [3.56205724e-01, 3.45026721e-01],\n",
       "       [9.87783175e-01, 4.91457265e-01],\n",
       "       [7.98709299e-01, 6.09811078e-01],\n",
       "       [8.03846186e-01, 2.83052591e-01],\n",
       "       [8.13015617e-01, 9.30248042e-01],\n",
       "       [9.05917292e-01, 3.56854206e-01],\n",
       "       [4.33738247e-01, 4.78330527e-01],\n",
       "       [1.14331723e-01, 7.39784536e-01],\n",
       "       [3.44920008e-01, 6.13054505e-01],\n",
       "       [2.78199097e-01, 6.41160734e-01],\n",
       "       [6.96445203e-01, 8.81777554e-01],\n",
       "       [7.98967520e-01, 3.53190799e-01],\n",
       "       [8.76883693e-01, 6.77450086e-01],\n",
       "       [6.34848002e-01, 5.01560213e-01],\n",
       "       [2.11908440e-01, 2.85685951e-01],\n",
       "       [5.86576218e-01, 5.71371690e-01],\n",
       "       [6.98571006e-02, 7.91502870e-01],\n",
       "       [2.35567122e-01, 6.43814483e-02],\n",
       "       [8.87761576e-01, 5.20074651e-01],\n",
       "       [2.44994121e-01, 3.21329348e-02],\n",
       "       [9.06994459e-02, 8.69037413e-01],\n",
       "       [5.08827828e-01, 6.61241428e-01],\n",
       "       [6.52041852e-01, 7.75577807e-01],\n",
       "       [7.72224627e-01, 8.06705765e-01],\n",
       "       [1.32690102e-01, 1.18951856e-01],\n",
       "       [3.26137965e-02, 7.52009105e-01],\n",
       "       [4.05159311e-01, 2.82911534e-01],\n",
       "       [3.26181986e-01, 2.02604011e-01],\n",
       "       [8.47372879e-01, 7.04176766e-01],\n",
       "       [3.76281909e-01, 6.35517826e-01],\n",
       "       [6.64785447e-01, 9.59600468e-01],\n",
       "       [8.59156206e-01, 7.00684551e-01],\n",
       "       [5.18128322e-01, 5.48002437e-01],\n",
       "       [7.27883359e-01, 4.23524312e-01],\n",
       "       [3.09660384e-01, 9.12732964e-01],\n",
       "       [2.89430897e-01, 1.38966326e-01],\n",
       "       [9.07725136e-01, 2.43202820e-01],\n",
       "       [8.17328794e-01, 6.93709388e-01],\n",
       "       [3.72115083e-02, 1.22634314e-01],\n",
       "       [9.71580157e-02, 9.31522188e-01],\n",
       "       [8.07511512e-01, 5.83752398e-01],\n",
       "       [8.29860746e-01, 8.62866816e-02]])"
      ]
     },
     "execution_count": 28,
     "metadata": {},
     "output_type": "execute_result"
    }
   ],
   "source": []
  }
 ],
 "metadata": {
  "kernelspec": {
   "display_name": "Python 3.8.8 ('base')",
   "language": "python",
   "name": "python3"
  },
  "language_info": {
   "codemirror_mode": {
    "name": "ipython",
    "version": 3
   },
   "file_extension": ".py",
   "mimetype": "text/x-python",
   "name": "python",
   "nbconvert_exporter": "python",
   "pygments_lexer": "ipython3",
   "version": "3.8.8"
  },
  "orig_nbformat": 4,
  "vscode": {
   "interpreter": {
    "hash": "5e820f3ddc028a719ffe50e7d80dd01658ce1fe998d4f6f388d9b09d11d3d164"
   }
  }
 },
 "nbformat": 4,
 "nbformat_minor": 2
}
