{
 "cells": [
  {
   "cell_type": "code",
   "execution_count": 1,
   "metadata": {},
   "outputs": [
    {
     "name": "stdout",
     "output_type": "stream",
     "text": [
      "[[[8 3 1 0]\n",
      "  [3 9 1 7]]\n",
      "\n",
      " [[0 0 8 4]\n",
      "  [1 7 5 2]]\n",
      "\n",
      " [[1 5 7 7]\n",
      "  [9 8 6 8]]]\n"
     ]
    }
   ],
   "source": [
    "import numpy as np\n",
    "\n",
    "test = np.random.randint(0,10, (3,2,4)) # three layers of 2x4 matrices\n",
    "print(test)"
   ]
  },
  {
   "cell_type": "code",
   "execution_count": 2,
   "metadata": {},
   "outputs": [
    {
     "data": {
      "text/plain": [
       "array([[[8, 3],\n",
       "        [3, 9],\n",
       "        [1, 1],\n",
       "        [0, 7]],\n",
       "\n",
       "       [[0, 1],\n",
       "        [0, 7],\n",
       "        [8, 5],\n",
       "        [4, 2]],\n",
       "\n",
       "       [[1, 9],\n",
       "        [5, 8],\n",
       "        [7, 6],\n",
       "        [7, 8]]])"
      ]
     },
     "execution_count": 2,
     "metadata": {},
     "output_type": "execute_result"
    }
   ],
   "source": [
    "test.transpose(0,2,1)"
   ]
  },
  {
   "cell_type": "code",
   "execution_count": 3,
   "metadata": {},
   "outputs": [
    {
     "name": "stderr",
     "output_type": "stream",
     "text": [
      "C:\\Users\\jason\\AppData\\Local\\Temp/ipykernel_16336/1998601296.py:1: RuntimeWarning: invalid value encountered in true_divide\n",
      "  np.divide([0,0,0], [1,1,0])\n"
     ]
    },
    {
     "data": {
      "text/plain": [
       "array([ 0.,  0., nan])"
      ]
     },
     "execution_count": 3,
     "metadata": {},
     "output_type": "execute_result"
    }
   ],
   "source": [
    "np.divide([0,0,0], [1,1,0])"
   ]
  },
  {
   "cell_type": "code",
   "execution_count": 8,
   "metadata": {},
   "outputs": [
    {
     "name": "stdout",
     "output_type": "stream",
     "text": [
      "[0. 1. 0.]\n"
     ]
    },
    {
     "name": "stderr",
     "output_type": "stream",
     "text": [
      "C:\\Users\\jason\\AppData\\Local\\Temp/ipykernel_16336/534693295.py:3: RuntimeWarning: invalid value encountered in true_divide\n",
      "  d = np.nan_to_num(a/b)\n"
     ]
    }
   ],
   "source": [
    "a = np.array([0,1,0])\n",
    "b = np.array([1,1,0])\n",
    "d = np.nan_to_num(a/b)\n",
    "print(d)"
   ]
  }
 ],
 "metadata": {
  "kernelspec": {
   "display_name": "Python 3.8.8 ('base')",
   "language": "python",
   "name": "python3"
  },
  "language_info": {
   "codemirror_mode": {
    "name": "ipython",
    "version": 3
   },
   "file_extension": ".py",
   "mimetype": "text/x-python",
   "name": "python",
   "nbconvert_exporter": "python",
   "pygments_lexer": "ipython3",
   "version": "3.8.8"
  },
  "orig_nbformat": 4,
  "vscode": {
   "interpreter": {
    "hash": "5e820f3ddc028a719ffe50e7d80dd01658ce1fe998d4f6f388d9b09d11d3d164"
   }
  }
 },
 "nbformat": 4,
 "nbformat_minor": 2
}
