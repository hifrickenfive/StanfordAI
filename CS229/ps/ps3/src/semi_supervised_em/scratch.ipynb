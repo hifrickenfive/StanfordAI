{
 "cells": [
  {
   "cell_type": "code",
   "execution_count": 3,
   "metadata": {},
   "outputs": [],
   "source": [
    "import matplotlib.pyplot as plt\n",
    "import numpy as np\n",
    "import os\n",
    "\n",
    "def load_gmm_dataset(csv_path):\n",
    "    \"\"\"Load dataset for Gaussian Mixture Model.\n",
    "\n",
    "    Args:\n",
    "         csv_path: Path to CSV file containing dataset.\n",
    "\n",
    "    Returns:\n",
    "        x: NumPy array shape (n_examples, dim)\n",
    "        z: NumPy array shape (n_exampls, 1)\n",
    "\n",
    "    NOTE: You do not need to edit this function.\n",
    "    \"\"\"\n",
    "\n",
    "    # Load headers\n",
    "    with open(csv_path, 'r') as csv_fh:\n",
    "        headers = csv_fh.readline().strip().split(',')\n",
    "\n",
    "    # Load features and labels\n",
    "    x_cols = [i for i in range(len(headers)) if headers[i].startswith('x')]\n",
    "    z_cols = [i for i in range(len(headers)) if headers[i] == 'z']\n",
    "\n",
    "    x = np.loadtxt(csv_path, delimiter=',', skiprows=1, usecols=x_cols, dtype=float)\n",
    "    z = np.loadtxt(csv_path, delimiter=',', skiprows=1, usecols=z_cols, dtype=float)\n",
    "\n",
    "    if z.ndim == 1:\n",
    "        z = np.expand_dims(z, axis=-1)\n",
    "\n",
    "    return x, z\n"
   ]
  },
  {
   "cell_type": "code",
   "execution_count": null,
   "metadata": {},
   "outputs": [],
   "source": [
    "# Load data\n",
    "train_path = os.path.join('.', 'train.csv')\n",
    "x_all, z_all = load_gmm_dataset(train_path)\n",
    "assert len(x_all) == len(z_all)\n"
   ]
  },
  {
   "cell_type": "code",
   "execution_count": 26,
   "metadata": {},
   "outputs": [
    {
     "name": "stdout",
     "output_type": "stream",
     "text": [
      "[619  88 675 668 661 184 407 285 791 109 485 476 270 647 899 326 153 404\n",
      " 900 226 155 695 777 568 237  93  69 677 985 157 784 673 870 552 635 766\n",
      " 389 903 443 709 163 704 398 686 788 559 479 995 730 782 530 514 606 396\n",
      " 543 974 142 722 620 483 360 331 221  42 971 509 776 804 691   0 633 461\n",
      " 906 195 139 355 747 423 283 409 667 526 961 569   6 223 537 718 923 138\n",
      " 325 371 507 452 215 956 499 848 374 228 651 282 315 150  66 300 456 276\n",
      " 889 981 115 239 598 755 734 124 357 795 884 317 397 203 654 590 663 587\n",
      " 291  22 290 107 588 292 786 666 649 301 105 850 799 180 591 126 690 487\n",
      " 574 330 943 436  55 749 272 498 963 992 696 350 287 934 932 553 339 865\n",
      " 173  64 827 122 980 477 348 478  40   1 736 135 286 429 522 334 201 197\n",
      " 425 265 462 599 815 299 596 681 855 603  14 345 523 586 131 646 753 393\n",
      " 230 813 196 390  18 136 836 849 492 162 368 674 108  48 931 756 954 513\n",
      " 281 854 908 146  24  34 296 207 232 822 939 807 742  81 441 313 565 445\n",
      " 168 448 821 469 615 244 205 342 891 496 557  49 220 125 502 484 229 166\n",
      " 501 167 394 183 893 324 630 188 797 344 897 460 904 306 198 546 770 431\n",
      " 525 329 190 366 261 810 103 309  20 378 764 986 911 880 250  92  21 744\n",
      " 159  63  91  45 676 549 335 385 935 405 420 111 933 916 772 343 428 503\n",
      " 948  83 914 416 213  87 176  67 572 571 817 652 359 955 735  98 811 259\n",
      " 991 406 703  76 145 427 796 369 832 727 208 367 762 962 639 769 575 853\n",
      " 917  68 160 252 100  75 627 976 947 121 347 377 864 510 336 585 391 601\n",
      " 773 527 579  36 454 104 751 550 120 885 450  13 928 894 403 644 141  35\n",
      " 338 570  99 515 787 413 375 551  65 387 998 721 473 768 945 379 875 540\n",
      " 497  29 905 818 112 263 137 838 457 257 419 713 812 789 245 988 274 534\n",
      " 781 520 712 528 253 577 415 395  62 517 806 531 637 267 144 632 607 383\n",
      " 192  57 187 152 774 437 505 949 199 464 898  96 266 621 614 701  53 793\n",
      "  43 946 996 952 624 372 937 775 684 243 700 434 887 364 340 609 227 669\n",
      " 353 193 763 560 843 151 665 608 783 679 792 471 958 271 346 973  58 491\n",
      " 592 765 354 741 489 750 758  70 134 794 186  97 381  37 447 706 968 518\n",
      " 856 625 117 332 825 321  12 723 114 439 211 711 493 289 745 424  61 698\n",
      " 959 760 449 304 400  39 538 659 987 994 705  74 280 218   9 890  84 246\n",
      " 430 320 294 174  25 863 733 915 871 380  78 238 802 800 506 414 555 967\n",
      " 248 328 279 857 965 556 541 839 567 716 234 687 480 508 175 356 210 938\n",
      " 573 426 467  82 602 641 363 225 214 814 308 562 519 580 888 882 362 118\n",
      " 156 500 845 859 365 298 516 341 833 901 828 743 178 680 907 872 222 337\n",
      "  56 327  72  30 288 940 867 930 418  80 636  77 708 604 511 219 628 311\n",
      " 110 474 164 629 616 161 866 535 542 322 236 442 688 809 678 432 960 165\n",
      " 685 779  54 909 860 258 611 233 275  71 351 113  46 719 929 204 524 589\n",
      " 481 130 966 547  50 731 470  60 202 486 255 170 829  85 399 717 737 612\n",
      " 972 451 655 672 249 133 610 819 189  23 421 834  11 194  73  89 767 927\n",
      " 123 808 277 386 634 702 862 119 732 495 692 310 260 726 600 440 284 720\n",
      " 710  19 975 879 631 224 191 433 877 127 643 714 746 925 302 738 912 964\n",
      " 268   4 941  28 876 851 729 323 913 584  10  31 401 785 640 979 504 295\n",
      " 102 869 926 858 466 521 657 740 761 950  32 158   5 970  16  90  17 494\n",
      " 206 307 824 844 626 472 617 725 656 256 148 642 384 831 251 664 544 852\n",
      " 993 662 536 185 352 830 650 605 561 697 977 707 453 790 262 660 241 358\n",
      "  38 106 581 902 361 835 231 242 465 658 739 475 613 693 247 978 388 171\n",
      " 101 278 154 149 982 936 116 200 468 724 411  47 128 883 446 583 671 147\n",
      " 319 558 780 402 683 179 989 488 216 840 217 143 682 595 593 314 533 316\n",
      " 129   2 826 919 754  94 318 382 438 942 752 892 566 578 645 846 728 264\n",
      " 293  52 169 759  95 512 305 212 689 881   3 778 924  41 539 303  15 373\n",
      " 847 997 444 895  86 564 638  51   8 554 886 820 594 999 482 910 532 990\n",
      " 798 983 333 182 463 805 349  26 861 417 240 132 254 529 801  27 842 921\n",
      " 922 582   7 412 951 297 622 273 177 623 757 370 699 957 410 953  33 563\n",
      " 422 670 969 771 715 209 458 803 548 181 435 823 648 597 920 984 455 918\n",
      " 748 392  79 140  44 376 874 312 816 837 878 873 269 235 653 944 896 576\n",
      " 459 545 694 490 868 172 408  59 618 841]\n"
     ]
    }
   ],
   "source": [
    "# Create randomised permutation index\n",
    "randomised_idx = np.random.permutation(len(x_all)) #https://stackoverflow.com/questions/43229034/randomly-shuffle-data-and-labels-from-different-files-in-the-same-order\n",
    "print(randomised_idx)"
   ]
  },
  {
   "cell_type": "code",
   "execution_count": 31,
   "metadata": {},
   "outputs": [],
   "source": [
    "# Shuffle\n",
    "x, z = x_all[randomised_idx], z_all[randomised_idx]\n",
    "\n",
    "# Split\n",
    "x1, x2, x3, x4 =  np.array_split(x, 4)\n",
    "z1, z2, z3, z4 =  np.array_split(z, 4)\n"
   ]
  },
  {
   "cell_type": "code",
   "execution_count": null,
   "metadata": {},
   "outputs": [],
   "source": [
    "# Process labelled data\n",
    "randomised_idx = np.random.permutation(len(x_tilde))\n",
    "x_tilde, z_tilde = x_tilde[randomised_idx], z_tilde[randomised_idx]\n",
    "x_tilde1, xx_tilde, x_tilde3, x_tilde4 =  np.array_split(x_tilde, K)\n",
    "z_tilde1, z_tilde2, z_tilde3, z_tilde4 =  np.array_split(z_tilde, K)\n",
    "\n",
    "# Process unlabelled data\n",
    "randomised_idx = np.random.permutation(len(x))\n",
    "x = x[randomised_idx]\n",
    "x1, x2, x3, x4 =  np.array_split(x, K)\n",
    "\n",
    "data1 = np.mean([x_tilde, x1])"
   ]
  }
 ],
 "metadata": {
  "kernelspec": {
   "display_name": "Python 3.8.8 ('base')",
   "language": "python",
   "name": "python3"
  },
  "language_info": {
   "codemirror_mode": {
    "name": "ipython",
    "version": 3
   },
   "file_extension": ".py",
   "mimetype": "text/x-python",
   "name": "python",
   "nbconvert_exporter": "python",
   "pygments_lexer": "ipython3",
   "version": "3.8.8"
  },
  "orig_nbformat": 4,
  "vscode": {
   "interpreter": {
    "hash": "5e820f3ddc028a719ffe50e7d80dd01658ce1fe998d4f6f388d9b09d11d3d164"
   }
  }
 },
 "nbformat": 4,
 "nbformat_minor": 2
}
