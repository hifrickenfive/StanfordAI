{
 "cells": [
  {
   "cell_type": "code",
   "execution_count": 1,
   "metadata": {},
   "outputs": [],
   "source": [
    "from typing import Callable, Dict, List, Tuple, TypeVar\n",
    "import random\n",
    "from typing import Callable, Dict, List, Tuple, TypeVar\n",
    "from collections import Counter, defaultdict\n",
    "from util import *\n",
    "\n",
    "\n",
    "\n",
    "FeatureVector = Dict[str, int]\n",
    "WeightVector = Dict[str, float]\n",
    "Example = Tuple[FeatureVector, int]\n"
   ]
  },
  {
   "cell_type": "code",
   "execution_count": 2,
   "metadata": {},
   "outputs": [],
   "source": [
    "def distSquared(d1: Dict, d2: Dict) -> float:\n",
    "    \"\"\"\n",
    "    @param dict d1: a feature vector represented by a mapping from a feature (string) to a weight (float).\n",
    "    @param dict d2: same as d1\n",
    "    @return float: the squared euclidean distance between d1 and d2\n",
    "    \"\"\"\n",
    "    # Three cases:  (delta of commons keys)^2 + (d1 uniques)^2 + (d2 uniques)^2\n",
    "    sum = 0\n",
    "\n",
    "    for key in d1.keys() & d2.keys():\n",
    "        sum += (d1[key] - d2[key])**2\n",
    "    \n",
    "    for key in d1.keys() - d2.keys():\n",
    "        sum += (d1[key])**2\n",
    "\n",
    "    for key in d2.keys() - d1.keys():\n",
    "        sum += (d2[key])**2\n",
    "    \n",
    "    return sum"
   ]
  },
  {
   "cell_type": "code",
   "execution_count": 3,
   "metadata": {},
   "outputs": [
    {
     "name": "stdout",
     "output_type": "stream",
     "text": [
      "[Counter({'plot0': 4, 'bad': 1, 'worst': 1, 'filler0': 1}), Counter({'plot0': 3, 'bad': 2, 'plot1': 1, 'filler0': 1}), Counter({'plot1': 3, 'fantastic': 1, 'good': 1, 'plot0': 1, 'filler0': 1}), Counter({'acting1': 3, 'good': 2, 'acting0': 1, 'filler0': 1})]\n"
     ]
    }
   ],
   "source": [
    "clusteringExamples = generateClusteringExamples(4, 2, 1)\n",
    "result = distSquared(clusteringExamples[0], clusteringExamples[1])\n",
    "assert result == 4\n",
    "\n",
    "result = distSquared({'plot0': 2, 'bad': 1, 'worst': 1}, {'plot1': 2, 'plot0': 1, 'plot3': 1}) \n",
    "assert result == 8\n",
    "\n",
    "result = distSquared({'plot0': 1, 'bad': 1, 'worst':1}, {'plot0': 1, 'bad': 1})\n",
    "assert result == 1\n",
    "\n",
    "print(clusteringExamples)"
   ]
  },
  {
   "cell_type": "code",
   "execution_count": 4,
   "metadata": {},
   "outputs": [
    {
     "name": "stdout",
     "output_type": "stream",
     "text": [
      "[Counter({'plot0': 3, 'bad': 2, 'plot1': 1, 'filler0': 1}), Counter({'plot1': 3, 'fantastic': 1, 'good': 1, 'plot0': 1, 'filler0': 1})]\n"
     ]
    }
   ],
   "source": [
    "K = 2\n",
    "\n",
    "import random\n",
    "random.seed(4)\n",
    "\n",
    "centroidList = list()\n",
    "for i in range(K):\n",
    "    centroidList.append(random.choice(clusteringExamples))\n",
    "\n",
    "print(centroidList)\n"
   ]
  },
  {
   "cell_type": "code",
   "execution_count": 5,
   "metadata": {},
   "outputs": [],
   "source": [
    "def AddSparseVectors(d1:dict, d2:dict) -> dict:\n",
    "    \"\"\"\n",
    "    @param dict d1: a feature vector represented by a mapping from a feature (string) to a weight (float).\n",
    "    @param dict d2: same as d1\n",
    "    @return float: the squared euclidean distance between d1 and d2\n",
    "    \"\"\"\n",
    "    if d1 == None:\n",
    "        return d2\n",
    "    if d2 == None:\n",
    "        return d1\n",
    "    \n",
    "    if len(d1) < len(d2):\n",
    "        return AddSparseVectors(d2, d1)\n",
    "    else:\n",
    "        d1Copy = d1.copy() # To not mutate features\n",
    "        for key, value in d2.items():\n",
    "            if key not in d1.keys():\n",
    "                d1Copy.update({key: value})\n",
    "            else:\n",
    "                d1Copy[key] += value\n",
    "        return d1Copy"
   ]
  },
  {
   "cell_type": "code",
   "execution_count": 6,
   "metadata": {},
   "outputs": [],
   "source": [
    "result = AddSparseVectors({'plot0': 2, 'bad': 1, 'worst': 1}, {'plot1': 2, 'plot0': 1, 'plot3': 1})\n",
    "assert result == {'plot0': 3, 'bad': 1, 'worst': 1, 'plot1': 2, 'plot3': 1}\n",
    "\n",
    "result = AddSparseVectors({'plot0': 1, 'bad': 1, 'worst':1}, {'plot0': 1, 'bad': 1})\n",
    "assert result == {'plot0': 2, 'bad': 2, 'worst':1}\n",
    "\n",
    "result = AddSparseVectors({'plot0': 1, 'bad': 1}, {'plot0': 1, 'bad': 1, 'worst':1})\n",
    "assert result == {'plot0': 2, 'bad': 2, 'worst':1}\n",
    "\n",
    "result = AddSparseVectors(None, {'plot0': 1, 'bad': 1, 'worst':1})\n",
    "assert result ==  {'plot0': 1, 'bad': 1, 'worst':1}\n",
    "\n",
    "result = AddSparseVectors({'plot0': 1, 'bad': 1, 'worst':1}, None)\n",
    "assert result ==  {'plot0': 1, 'bad': 1, 'worst':1}"
   ]
  },
  {
   "cell_type": "code",
   "execution_count": 14,
   "metadata": {},
   "outputs": [],
   "source": [
    "# Test case 5a\n",
    "examples = [{'x1': 10, 'x2': 0}, {'x1': 30, 'x2': 0}, {'x1': 10, 'x2': 20}, {'x1': 20, 'x2': 20}]\n",
    "centroidList = [{'x1': 20, 'x2': 30}, {'x1': 20, 'x2': -10}]\n",
    "\n",
    "# result = AddSparseVectors(clusteringExamples[0], clusteringExamples[1])\n",
    "# assert result == {'x1': 40, 'x2': 0}\n",
    "\n",
    "# result = AddSparseVectors(clusteringExamples[2], clusteringExamples[3])\n",
    "# assert result == {'x1': 30, 'x2': 40}\n",
    "\n",
    "N = 2\n",
    "numEpochs = 2\n",
    "clusteringExamples = [{'x1': 10, 'x2': 0}, {'x1': 30, 'x2': 0}, {'x1': 10, 'x2': 20}, {'x1': 20, 'x2': 20}]\n",
    "# centroidList = [{'x1': 20, 'x2': 30}, {'x1': 20, 'x2': -10}]\n",
    "centroidList = [{'x1': 0, 'x2': 10}, {'x1': 30, 'x2': 20}]"
   ]
  },
  {
   "cell_type": "code",
   "execution_count": 18,
   "metadata": {},
   "outputs": [
    {
     "name": "stdout",
     "output_type": "stream",
     "text": [
      "[{0: 0, 1: 1}, {0: 0, 1: 2}]\n"
     ]
    }
   ],
   "source": [
    "# Test case 5b-0\n",
    "x1 = {0:0, 1:0}\n",
    "x2 = {0:0, 1:1}\n",
    "x3 = {0:0, 1:2}\n",
    "x4 = {0:0, 1:3}\n",
    "x5 = {0:0, 1:4}\n",
    "x6 = {0:0, 1:5}\n",
    "examples = [x1, x2, x3, x4, x5, x6]\n",
    "\n",
    "N = 2\n",
    "numEpochs = 10\n",
    "random.seed(4)\n",
    "centroidList = list()\n",
    "for i in range(K):\n",
    "    centroidList.append(random.choice(examples))\n",
    "\n",
    "print(centroidList)"
   ]
  },
  {
   "cell_type": "code",
   "execution_count": 21,
   "metadata": {},
   "outputs": [
    {
     "name": "stdout",
     "output_type": "stream",
     "text": [
      "================ Starting Epoch 0 ================\n",
      "Dataset: [{'x1': 10, 'x2': 0}, {'x1': 30, 'x2': 0}, {'x1': 10, 'x2': 20}, {'x1': 20, 'x2': 20}]\n",
      "{0: None, 1: None, 2: None, 3: None, 4: None, 5: None} {0: None, 1: None} {0: 0, 1: 0}\n",
      "\n",
      "\n",
      "Processing Data point 0\n",
      "    assignedClusterID: 0\n",
      "    current sum for cluster: 0: None\n",
      "    updated sum for cluster: 0: {0: 0, 1: 0}\n",
      "\n",
      "\n",
      "Processing Data point 1\n",
      "    assignedClusterID: 0\n",
      "    current sum for cluster: 0: {0: 0, 1: 0}\n",
      "    updated sum for cluster: 0: {0: 0, 1: 1}\n",
      "\n",
      "\n",
      "Processing Data point 2\n",
      "    assignedClusterID: 0\n",
      "    current sum for cluster: 0: {0: 0, 1: 1}\n",
      "    updated sum for cluster: 0: {0: 0, 1: 3}\n",
      "\n",
      "\n",
      "Processing Data point 3\n",
      "    assignedClusterID: 0\n",
      "    current sum for cluster: 0: {0: 0, 1: 3}\n",
      "    updated sum for cluster: 0: {0: 0, 1: 6}\n",
      "\n",
      "\n",
      "Processing Data point 4\n",
      "    assignedClusterID: 0\n",
      "    current sum for cluster: 0: {0: 0, 1: 6}\n",
      "    updated sum for cluster: 0: {0: 0, 1: 10}\n",
      "\n",
      "\n",
      "Processing Data point 5\n",
      "    assignedClusterID: 0\n",
      "    current sum for cluster: 0: {0: 0, 1: 10}\n",
      "    updated sum for cluster: 0: {0: 0, 1: 15}\n",
      "\n",
      "\n",
      "Results from epoch\n",
      "    Each datapoints assigned cluster: {0: 0, 1: 0, 2: 0, 3: 0, 4: 0, 5: 0}\n",
      "    Each clusters' total sum: {0: {0: 0, 1: 15}, 1: None}\n",
      "    Each clusters' total count: {0: 6, 1: 0}\n",
      "\n",
      "\n",
      "Update Centroids\n",
      "    Cluster Sum: {0: 0, 1: 15}\n",
      "    Cluster count: 6\n",
      "        Updated centroidVector = {'x1': 0, 'x2': 10, 0: 0.0, 1: 2.5}\n",
      "\n",
      "\n",
      "    Cluster Sum: None\n",
      "    Cluster count: 0\n"
     ]
    },
    {
     "ename": "AttributeError",
     "evalue": "'NoneType' object has no attribute 'items'",
     "output_type": "error",
     "traceback": [
      "\u001b[1;31m---------------------------------------------------------------------------\u001b[0m",
      "\u001b[1;31mAttributeError\u001b[0m                            Traceback (most recent call last)",
      "\u001b[1;32m~\\AppData\\Local\\Temp\\ipykernel_6204\\610527924.py\u001b[0m in \u001b[0;36m<module>\u001b[1;34m\u001b[0m\n\u001b[0;32m     60\u001b[0m         \u001b[0mprint\u001b[0m\u001b[1;33m(\u001b[0m\u001b[1;34mf'    Cluster Sum: {clusterSum[centroidID]}'\u001b[0m\u001b[1;33m)\u001b[0m\u001b[1;33m\u001b[0m\u001b[1;33m\u001b[0m\u001b[0m\n\u001b[0;32m     61\u001b[0m         \u001b[0mprint\u001b[0m\u001b[1;33m(\u001b[0m\u001b[1;34mf'    Cluster count: {clusterCounts[centroidID]}'\u001b[0m\u001b[1;33m)\u001b[0m\u001b[1;33m\u001b[0m\u001b[1;33m\u001b[0m\u001b[0m\n\u001b[1;32m---> 62\u001b[1;33m         \u001b[1;32mfor\u001b[0m \u001b[0mkey\u001b[0m\u001b[1;33m,\u001b[0m \u001b[0mvalue\u001b[0m \u001b[1;32min\u001b[0m \u001b[0mclusterSum\u001b[0m\u001b[1;33m[\u001b[0m\u001b[0mcentroidID\u001b[0m\u001b[1;33m]\u001b[0m\u001b[1;33m.\u001b[0m\u001b[0mitems\u001b[0m\u001b[1;33m(\u001b[0m\u001b[1;33m)\u001b[0m\u001b[1;33m:\u001b[0m\u001b[1;33m\u001b[0m\u001b[1;33m\u001b[0m\u001b[0m\n\u001b[0m\u001b[0;32m     63\u001b[0m             \u001b[0mcentroidVector\u001b[0m\u001b[1;33m[\u001b[0m\u001b[0mkey\u001b[0m\u001b[1;33m]\u001b[0m \u001b[1;33m=\u001b[0m \u001b[0mvalue\u001b[0m \u001b[1;33m/\u001b[0m \u001b[0mclusterCounts\u001b[0m\u001b[1;33m[\u001b[0m\u001b[0mcentroidID\u001b[0m\u001b[1;33m]\u001b[0m\u001b[1;33m\u001b[0m\u001b[1;33m\u001b[0m\u001b[0m\n\u001b[0;32m     64\u001b[0m         \u001b[0mprint\u001b[0m\u001b[1;33m(\u001b[0m\u001b[1;34mf'        Updated centroidVector = {centroidVector}'\u001b[0m\u001b[1;33m)\u001b[0m\u001b[1;33m\u001b[0m\u001b[1;33m\u001b[0m\u001b[0m\n",
      "\u001b[1;31mAttributeError\u001b[0m: 'NoneType' object has no attribute 'items'"
     ]
    }
   ],
   "source": [
    "import math\n",
    "# reset()\n",
    "del data2cluster, clusterSum, clusterCounts, clusteringExamples\n",
    "N = 2\n",
    "numEpochs = 2\n",
    "clusteringExamples = [{'x1': 10, 'x2': 0}, {'x1': 30, 'x2': 0}, {'x1': 10, 'x2': 20}, {'x1': 20, 'x2': 20}]\n",
    "# centroidList = [{'x1': 20, 'x2': 30}, {'x1': 20, 'x2': -10}]\n",
    "centroidList = [{'x1': 0, 'x2': 10}, {'x1': 30, 'x2': 20}]\n",
    "\n",
    "for i in range(numEpochs):\n",
    "    print(f'================ Starting Epoch {i} ================')\n",
    "    # Initialise dictionaries\n",
    "    data2cluster = dict.fromkeys(range(len(examples)), None)\n",
    "    clusterSum = dict.fromkeys(range(len(centroidList)), None)\n",
    "    clusterCounts = dict.fromkeys(range(len(centroidList)), 0)\n",
    "    finalLoss = dict.fromkeys(range(len(examples)), None)\n",
    "    print(f'Dataset: {clusteringExamples}')\n",
    "    print(data2cluster, clusterSum, clusterCounts)\n",
    "    print('\\n')\n",
    "\n",
    "    for featureID, featureVector in enumerate(examples):\n",
    "        print(f'Processing Data point {featureID}')\n",
    "        # print(f'featureVector: {featureVector}')\n",
    "\n",
    "        # Initialise default cluster assignment\n",
    "        assignedClusterID = 0\n",
    "        lowestDistSq = math.inf\n",
    "\n",
    "        # Evaluate the distances from current featureVector to each centroid\n",
    "        for centroidID, centroidVector in enumerate(centroidList):\n",
    "            # print(f'    centroidID: {centroidID}, centroidVector = {centroidVector}')\n",
    "            currentDistSq = distSquared(featureVector, centroidVector)\n",
    "            # print(f'    Current Distance Squared: {currentDistSq}')\n",
    "            if currentDistSq < lowestDistSq:\n",
    "                assignedClusterID = centroidID\n",
    "                lowestDistSq = currentDistSq\n",
    "\n",
    "        # Associate the current featureVector to its closest centroid\n",
    "        print(f'    assignedClusterID: {assignedClusterID}')\n",
    "        data2cluster[featureID] = assignedClusterID\n",
    "        finalLoss[featureID] = lowestDistSq\n",
    "\n",
    "        # Update that cluster's sum and counts\n",
    "        currentSum = clusterSum[assignedClusterID]\n",
    "        print(f'    current sum for cluster: {assignedClusterID}: {clusterSum[assignedClusterID]}')\n",
    "        clusterSum[assignedClusterID] = AddSparseVectors(featureVector, currentSum)\n",
    "        print(f'    updated sum for cluster: {assignedClusterID}: {clusterSum[assignedClusterID]}')\n",
    "        clusterCounts[assignedClusterID] += 1\n",
    "        print('\\n')\n",
    "\n",
    "    print(f'Results from epoch')\n",
    "    print(f'    Each datapoints assigned cluster: {data2cluster}')\n",
    "    print(f'    Each clusters\\' total sum: {clusterSum}')\n",
    "    print(f'    Each clusters\\' total count: {clusterCounts}')\n",
    "    print('\\n')\n",
    "\n",
    "    # Update centroids\n",
    "    print(f'Update Centroids')\n",
    "    for centroidID, centroidVector in enumerate(centroidList):\n",
    "        print(f'    Cluster Sum: {clusterSum[centroidID]}')\n",
    "        print(f'    Cluster count: {clusterCounts[centroidID]}')\n",
    "        for key, value in clusterSum[centroidID].items():\n",
    "            centroidVector[key] = value / clusterCounts[centroidID]\n",
    "        print(f'        Updated centroidVector = {centroidVector}')\n",
    "        print('\\n')\n",
    "\n",
    "    print(f'Final centroids: {centroidList}')\n",
    "    print('\\n')\n",
    "    print(centroidList, data2cluster, sum(v for k, v in finalLoss.items()))\n"
   ]
  },
  {
   "cell_type": "code",
   "execution_count": 29,
   "metadata": {},
   "outputs": [
    {
     "name": "stdout",
     "output_type": "stream",
     "text": [
      "[0.25, 0.25, 2.25, 6.25, 12.25, 20.25]\n",
      "[12.25, 6.25, 2.25, 0.25, 0.25, 2.25]\n"
     ]
    }
   ],
   "source": [
    "def distSquared(d1: dict, d2: dict) -> float:\n",
    "    \"\"\"\n",
    "    @param dict d1: a feature vector represented by a mapping from a feature (string) to a weight (float).\n",
    "    @param dict d2: same as d1\n",
    "    @return float: the squared euclidean distance between d1 and d2\n",
    "    \"\"\"\n",
    "    # Three cases:  (delta of commons keys)^2 + (d1 uniques)^2 + (d2 uniques)^2\n",
    "    sum = 0\n",
    "\n",
    "    for key in d1.keys() & d2.keys():\n",
    "        sum += (d1[key] - d2[key])**2\n",
    "    \n",
    "    for key in d1.keys() - d2.keys():\n",
    "        sum += (d1[key])**2\n",
    "\n",
    "    for key in d2.keys() - d1.keys():\n",
    "        sum += (d2[key])**2\n",
    "    \n",
    "    return sum\n",
    "\n",
    "x1 = {0:0, 1:0}\n",
    "x2 = {0:0, 1:1}\n",
    "x3 = {0:0, 1:2}\n",
    "x4 = {0:0, 1:3}\n",
    "x5 = {0:0, 1:4}\n",
    "x6 = {0:0, 1:5}\n",
    "examples = [x1, x2, x3, x4, x5, x6]\n",
    "c1 = {0:0, 1:0.5}\n",
    "c2 = {0:0, 1:3.5}\n",
    "distC1 = [distSquared(data, c1) for data in examples]\n",
    "distC2 = [distSquared(data, c2) for data in examples]\n",
    "print(distC1)\n",
    "print(distC2)\n"
   ]
  },
  {
   "cell_type": "code",
   "execution_count": null,
   "metadata": {},
   "outputs": [],
   "source": []
  },
  {
   "cell_type": "code",
   "execution_count": null,
   "metadata": {},
   "outputs": [],
   "source": [
    "\n",
    "trainExamples = readExamples('polarity.train')\n",
    "validationExamples = readExamples('polarity.dev')\n"
   ]
  },
  {
   "cell_type": "code",
   "execution_count": 188,
   "metadata": {},
   "outputs": [
    {
     "name": "stdout",
     "output_type": "stream",
     "text": [
      "{'I': 2, 'am': 2, 'what': 1}\n"
     ]
    }
   ],
   "source": [
    "def extractWordFeatures(x: str) -> FeatureVector:\n",
    "    \"\"\"\n",
    "    Extract word features for a string x. Words are delimited by\n",
    "    whitespace characters only.\n",
    "    @param string x:\n",
    "    @return dict: feature vector representation of x.\n",
    "    Example: \"I am what I am\" --> {'I': 2, 'am': 2, 'what': 1}\n",
    "    \"\"\"\n",
    "    # BEGIN_YOUR_CODE (our solution is 4 lines of code, but don't worry if you deviate from this)\n",
    "    wordList = x.split( )\n",
    "    return dict(Counter(wordList))\n",
    "\n",
    "testCase = \"train this dog\"\n",
    "testCase = \"I am what I am\"\n",
    "result = extractWordFeatures(testCase)\n",
    "print(result)"
   ]
  },
  {
   "cell_type": "markdown",
   "metadata": {},
   "source": [
    "# The Stanford increment utility builds the feature vector by mutating with each new feature it sees! How clever."
   ]
  },
  {
   "cell_type": "code",
   "execution_count": 189,
   "metadata": {},
   "outputs": [
    {
     "name": "stdout",
     "output_type": "stream",
     "text": [
      "\n",
      "\n",
      "--------------------NEXT FEATURE-------------------\n",
      "String: everything's serious , poetic , earnest and -- sadly -- dull .\n",
      "Label: -1\n",
      "Feature vector: {\"everything's\": 1, 'serious': 1, ',': 2, 'poetic': 1, 'earnest': 1, 'and': 1, '--': 2, 'sadly': 1, 'dull': 1, '.': 1}\n",
      "Hinge loss: 1\n",
      "weights: {\"everything's\": -0.1, 'serious': -0.1, ',': -0.2, 'poetic': -0.1, 'earnest': -0.1, 'and': -0.1, '--': -0.2, 'sadly': -0.1, 'dull': -0.1, '.': -0.1}\n",
      "\n",
      "\n",
      "--------------------NEXT FEATURE-------------------\n",
      "String: narratively , trouble every day is a plodding mess .\n",
      "Label: -1\n",
      "Feature vector: {'narratively': 1, ',': 1, 'trouble': 1, 'every': 1, 'day': 1, 'is': 1, 'a': 1, 'plodding': 1, 'mess': 1, '.': 1}\n",
      "Hinge loss: 0.7\n",
      "weights: {\"everything's\": -0.1, 'serious': -0.1, ',': -0.30000000000000004, 'poetic': -0.1, 'earnest': -0.1, 'and': -0.1, '--': -0.2, 'sadly': -0.1, 'dull': -0.1, '.': -0.2, 'narratively': -0.1, 'trouble': -0.1, 'every': -0.1, 'day': -0.1, 'is': -0.1, 'a': -0.1, 'plodding': -0.1, 'mess': -0.1}\n"
     ]
    }
   ],
   "source": [
    "trainExamplesSubset = trainExamples[0:2]\n",
    "numEpochs = 1\n",
    "eta = 0.1\n",
    "\n",
    "weights = {}  # feature => weight\n",
    "\n",
    "# BEGIN_YOUR_CODE (our solution is 13 lines of code, but don't worry if you deviate from this)\n",
    "def evalHingeLoss(featureVector, y, weights):\n",
    "    margin = dotProduct(weights, featureVector)*y\n",
    "    if margin < 1:\n",
    "        hingeLoss = 1 - margin\n",
    "    else:\n",
    "        hingeLoss = 0\n",
    "    return hingeLoss\n",
    "\n",
    "def predictClass(x):\n",
    "    featureVector = extractWordFeatures(x)\n",
    "    score = dotProduct(weights, featureVector)\n",
    "    if score < 0:\n",
    "        return -1\n",
    "    else:\n",
    "        return 1\n",
    "\n",
    "for i in range(numEpochs):\n",
    "    for item in trainExamplesSubset:\n",
    "        x, y = item\n",
    "        print('\\n')\n",
    "        print('--------------------NEXT FEATURE-------------------')\n",
    "        print(f'String: {x}')\n",
    "        print(f'Label: {y}')\n",
    "        featureVector = extractWordFeatures(x)\n",
    "        print(f'Feature vector: {featureVector}')\n",
    "        hingeLoss = evalHingeLoss(featureVector, y, weights)\n",
    "        print(f'Hinge loss: {hingeLoss}')\n",
    "        if hingeLoss > 0:\n",
    "            increment(weights, eta*y, featureVector)\n",
    "            print(f'weights: {weights}')"
   ]
  },
  {
   "cell_type": "markdown",
   "metadata": {},
   "source": [
    "the features are strings x\n",
    "the feature vector phi(x) = FeatureVector(x)\n",
    "trainExamples = list of tuples of strings and positve +1 or negative -1\n",
    "\n",
    "Implement the function learnPredictor using stochastic gradient descent and minimize hinge loss. Print the training error and validation error after each epoch to make sure your code is working. You must get less than 4% error rate on the training set and less than 30% error rate on the validation set to get full credit."
   ]
  },
  {
   "cell_type": "code",
   "execution_count": 209,
   "metadata": {},
   "outputs": [
    {
     "name": "stdout",
     "output_type": "stream",
     "text": [
      "{'e': 98, 'a': 33} 1\n",
      "{'d': 98} 1\n",
      "{'d': 27, 'a': 50} 1\n",
      "{'e': 98, 'a': 90, 'd': 35, 'b': 76} 1\n",
      "{'c': 4} 1\n",
      "{'a': 84} 1\n",
      "{'a': 68, 'b': 98, 'd': 64} 1\n",
      "{'b': 98, 'd': 38, 'a': 54} 1\n",
      "{'a': 24, 'c': 93, 'e': 86} 1\n",
      "{'c': 37, 'e': 64} 1\n",
      "{'d': 54, 'a': 62, 'b': 47} 1\n",
      "{'c': 12, 'd': 48, 'e': 14, 'b': 67} 1\n",
      "{'a': 40, 'e': 51} 1\n",
      "{'b': 2} 1\n",
      "{'e': 71, 'b': 52} 1\n",
      "{'c': 85, 'e': 78, 'a': 50} 1\n",
      "{'b': 67, 'e': 71, 'd': 47} 1\n",
      "{'e': 53, 'd': 46} 1\n",
      "{'c': 59, 'e': 79} 1\n",
      "{'a': 71, 'b': 71, 'e': 24, 'c': 5} 1\n"
     ]
    }
   ],
   "source": [
    "import random\n",
    "random.seed(1)\n",
    "weights = {'a':1,'b':2,'c':3,'d':4,'e':5}\n",
    "\n",
    "# for i in range(5):\n",
    "#     random_keys = random.sample(weights.keys(), random.randint(1, len(weights)))\n",
    "#     print(random_keys)\n",
    "\n",
    "for i in range(20):\n",
    "    exampleVector = dict()\n",
    "    random_length = random.randint(1, len(weights))\n",
    "\n",
    "    for i in range(random_length):\n",
    "        randomKey = random.choice(list(weights.keys()))\n",
    "        exampleVector[randomKey] =  random.randint(1, 100)\n",
    "\n",
    "    score = dotProduct(exampleVector, weights)\n",
    "    if score >= 0:\n",
    "        y = 1\n",
    "    else:\n",
    "        y = -1\n",
    "    print(exampleVector, y)\n",
    "\n",
    "# print(random.randint(1, len(weights)))\n",
    "# for i in range(5):\n",
    "#     print(random.randrange(0, len(weights), 1))\n",
    "\n",
    "# # for i in random.randint(1, len(weights)):\n",
    "#     # print(i)\n",
    "\n",
    "# r = [random.choice(list(weights)) for i in random.randrange(0, len(weights), 1)]\n",
    "# # print(r)"
   ]
  },
  {
   "cell_type": "code",
   "execution_count": 238,
   "metadata": {},
   "outputs": [],
   "source": [
    "def extractCharacterFeatures(n: int) -> Callable[[str], FeatureVector]:\n",
    "    '''\n",
    "    Return a function that takes a string |x| and returns a sparse feature\n",
    "    vector consisting of all n-grams of |x| without spaces mapped to their n-gram counts.\n",
    "    EXAMPLE: (n = 3) \"I like tacos\" --> {'Ili': 1, 'lik': 1, 'ike': 1, ...\n",
    "    You may assume that n >= 1.\n",
    "    '''\n",
    "    def extract(x: str) -> Dict[str, int]:\n",
    "        # BEGIN_YOUR_CODE (our solution is 6 lines of code, but don't worry if you deviate from this)\n",
    "        newString = x.replace(\" \", \"\")\n",
    "        newDict = defaultdict(int)\n",
    "        for index in range(0, len(newString)):\n",
    "            newWord = newString[index:index+n]\n",
    "            if len(newWord) == n:\n",
    "                newDict[newWord] += 1 \n",
    "        return newDict\n",
    "        # END_YOUR_CODE\n",
    "\n",
    "    return extract\n"
   ]
  },
  {
   "cell_type": "code",
   "execution_count": 239,
   "metadata": {},
   "outputs": [
    {
     "name": "stdout",
     "output_type": "stream",
     "text": [
      "defaultdict(<class 'int'>, {'hel': 1, 'ell': 1, 'llo': 1, 'low': 1, 'owo': 1, 'wor': 1, 'orl': 1, 'rld': 1})\n"
     ]
    }
   ],
   "source": [
    "x = \"I like tacos\"\n",
    "x = 'hello world'\n",
    "n = 3\n",
    "func = extractCharacterFeatures(n)\n",
    "print(func(x))\n"
   ]
  },
  {
   "cell_type": "code",
   "execution_count": 2,
   "metadata": {},
   "outputs": [],
   "source": [
    "import sympy\n",
    "from util import *\n",
    "from submission import *"
   ]
  },
  {
   "cell_type": "code",
   "execution_count": 24,
   "metadata": {},
   "outputs": [
    {
     "name": "stdout",
     "output_type": "stream",
     "text": [
      "Read 3554 examples from polarity.train\n",
      "Read 3554 examples from polarity.dev\n",
      "Epoch Number: 20\n",
      "Training error: 0.4586381541924592\n",
      "Validation error: 0.4845244794597636\n",
      "76 weights\n",
      "Official: train error = 0.4586381541924592, validation error = 0.4845244794597636\n",
      "Read 3554 examples from polarity.train\n",
      "Read 3554 examples from polarity.dev\n",
      "Epoch Number: 20\n",
      "Training error: 0.3072594259988745\n",
      "Validation error: 0.40433314575126617\n",
      "1470 weights\n",
      "Official: train error = 0.3072594259988745, validation error = 0.40433314575126617\n",
      "Read 3554 examples from polarity.train\n",
      "Read 3554 examples from polarity.dev\n",
      "Epoch Number: 20\n",
      "Training error: 0.0028137310073157004\n",
      "Validation error: 0.3159819921215532\n",
      "10808 weights\n",
      "Official: train error = 0.0028137310073157004, validation error = 0.3159819921215532\n",
      "Read 3554 examples from polarity.train\n",
      "Read 3554 examples from polarity.dev\n",
      "Epoch Number: 20\n",
      "Training error: 0.0\n",
      "Validation error: 0.28418683173888576\n",
      "46545 weights\n",
      "Official: train error = 0.0, validation error = 0.28418683173888576\n",
      "Read 3554 examples from polarity.train\n",
      "Read 3554 examples from polarity.dev\n",
      "Epoch Number: 20\n",
      "Training error: 0.0\n",
      "Validation error: 0.2737760270118177\n",
      "107217 weights\n",
      "Official: train error = 0.0, validation error = 0.2737760270118177\n",
      "Read 3554 examples from polarity.train\n",
      "Read 3554 examples from polarity.dev\n",
      "Epoch Number: 20\n",
      "Training error: 0.0\n",
      "Validation error: 0.2726505346088914\n",
      "166487 weights\n",
      "Official: train error = 0.0, validation error = 0.2726505346088914\n",
      "Read 3554 examples from polarity.train\n",
      "Read 3554 examples from polarity.dev\n",
      "Epoch Number: 20\n",
      "Training error: 0.0002813731007315701\n",
      "Validation error: 0.2706809229037704\n",
      "212442 weights\n",
      "Official: train error = 0.0002813731007315701, validation error = 0.2706809229037704\n",
      "Read 3554 examples from polarity.train\n",
      "Read 3554 examples from polarity.dev\n",
      "Epoch Number: 20\n",
      "Training error: 0.0005627462014631402\n",
      "Validation error: 0.2926280247608329\n",
      "243343 weights\n",
      "Official: train error = 0.0005627462014631402, validation error = 0.2926280247608329\n",
      "Read 3554 examples from polarity.train\n",
      "Read 3554 examples from polarity.dev\n",
      "Epoch Number: 20\n",
      "Training error: 0.0008441193021947102\n",
      "Validation error: 0.30979178390545864\n",
      "261895 weights\n",
      "Official: train error = 0.0008441193021947102, validation error = 0.30979178390545864\n"
     ]
    }
   ],
   "source": [
    "allResults = list()\n",
    "for i in range(1,10):\n",
    "    result = testValuesOfN(i)\n",
    "    allResults.append(result)\n",
    "\n",
    "\n",
    "\n"
   ]
  },
  {
   "cell_type": "code",
   "execution_count": 45,
   "metadata": {},
   "outputs": [],
   "source": [
    "trainError = [0.4586381541924592, 0.3072594259988745, 0.0028137310073157004, 0.0, 0.0, 0.0, 0.0002813731007315701, 0.0005627462014631402, 0.0008441193021947102]\n",
    "\n",
    "\n",
    "valError = [0.4845244794597636, 0.40433314575126617, 0.3159819921215532, 0.28418683173888576, 0.2737760270118177, 0.2726505346088914, 0.2706809229037704, 0.2926280247608329, 0.30979178390545864]\n",
    "\n",
    "weights = [76, 1470, 10808, 46545, 107217, 166487, 212442, 243343, 261895]\n"
   ]
  },
  {
   "cell_type": "code",
   "execution_count": 51,
   "metadata": {},
   "outputs": [
    {
     "data": {
      "image/png": "[encoded data removed]",
      "text/plain": [
       "<Figure size 432x288 with 1 Axes>"
      ]
     },
     "metadata": {
      "needs_background": "light"
     },
     "output_type": "display_data"
    }
   ],
   "source": [
    "import matplotlib.pyplot as plt\n",
    "N = [i for i in range(1,10)]\n",
    "\n",
    "plt.bar(N, valError)\n",
    "plt.title('Validation Error vs. N')\n",
    "plt.ylabel('Validation Error')\n",
    "plt.xlabel('Choice of N for extractCharacterFeatures ')\n",
    "\n",
    "plt.show()"
   ]
  },
  {
   "cell_type": "code",
   "execution_count": 55,
   "metadata": {},
   "outputs": [
    {
     "data": {
      "image/png": "[encoded data removed]",
      "text/plain": [
       "<Figure size 432x288 with 1 Axes>"
      ]
     },
     "metadata": {
      "needs_background": "light"
     },
     "output_type": "display_data"
    }
   ],
   "source": [
    "plt.bar(N, weights)\n",
    "plt.title('Number of Weights vs.N')\n",
    "plt.ylabel('Number of weights')\n",
    "plt.xlabel('Choice of N for extractCharacterFeatures ')\n",
    "plt.show()"
   ]
  },
  {
   "cell_type": "code",
   "execution_count": 52,
   "metadata": {},
   "outputs": [
    {
     "data": {
      "image/png": "[encoded data removed]",
      "text/plain": [
       "<Figure size 432x288 with 1 Axes>"
      ]
     },
     "metadata": {
      "needs_background": "light"
     },
     "output_type": "display_data"
    }
   ],
   "source": [
    "plt.scatter(weights, valError)\n",
    "plt.title('Validation Error vs. number of weights')\n",
    "plt.ylabel('Validation Error')\n",
    "plt.xlabel('Number of weights')\n",
    "plt.show()"
   ]
  }
 ],
 "metadata": {
  "interpreter": {
   "hash": "468819c82e791b0f9a8e64a9b2ca550cabcbea14dfb8d98bf6b8daf534ac0400"
  },
  "kernelspec": {
   "display_name": "Python 3.8.8 ('base')",
   "language": "python",
   "name": "python3"
  },
  "language_info": {
   "codemirror_mode": {
    "name": "ipython",
    "version": 3
   },
   "file_extension": ".py",
   "mimetype": "text/x-python",
   "name": "python",
   "nbconvert_exporter": "python",
   "pygments_lexer": "ipython3",
   "version": "3.7.13"
  },
  "orig_nbformat": 4
 },
 "nbformat": 4,
 "nbformat_minor": 2
}
