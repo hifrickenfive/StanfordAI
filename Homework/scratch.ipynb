{
 "cells": [
  {
   "cell_type": "code",
   "execution_count": 15,
   "metadata": {},
   "outputs": [
    {
     "name": "stdout",
     "output_type": "stream",
     "text": [
      "['hello', 'python', 'how', 'are', 'you']\n",
      "are\n"
     ]
    }
   ],
   "source": [
    "string = 'hello python how are you'\n",
    "list_string = string.split()\n",
    "print(list_string)\n",
    "\n",
    "list_string.sort()\n",
    "print(list_string[0])\n"
   ]
  },
  {
   "cell_type": "code",
   "execution_count": 18,
   "metadata": {},
   "outputs": [
    {
     "name": "stdout",
     "output_type": "stream",
     "text": [
      "are\n"
     ]
    }
   ],
   "source": [
    "def find_alphabetically_first_word(text: str) -> str:\n",
    "    \"\"\"\n",
    "    Given a string |text|, return the word in |text| that comes first\n",
    "    lexicographically (i.e., the word that would come first after sorting).\n",
    "    A word is defined by a maximal sequence of characters without whitespaces.\n",
    "    You might find max() handy here. If the input text is an empty string, \n",
    "    it is acceptable to either return an empty string or throw an error.\n",
    "    \"\"\"\n",
    "    # BEGIN_YOUR_CODE (our solution is 1 line of code, but don't worry if you deviate from this)\n",
    "    return sorted(text.split())[0]\n",
    "    # END_YOUR_CODE\n",
    "\n",
    "result = find_alphabetically_first_word(\"hello python program how are you\")\n",
    "print(result)\n"
   ]
  },
  {
   "cell_type": "code",
   "execution_count": 28,
   "metadata": {},
   "outputs": [
    {
     "data": {
      "text/plain": [
       "1"
      ]
     },
     "execution_count": 28,
     "metadata": {},
     "output_type": "execute_result"
    }
   ],
   "source": [
    "loc1 = (0,1)\n",
    "loc1[1]"
   ]
  },
  {
   "cell_type": "code",
   "execution_count": 45,
   "metadata": {},
   "outputs": [
    {
     "name": "stdout",
     "output_type": "stream",
     "text": [
      "1.0\n"
     ]
    }
   ],
   "source": [
    "import math\n",
    "\n",
    "def euclidean_distance(loc1, loc2):\n",
    "    \"\"\"\n",
    "    Return the Euclidean distance between two locations, where the locations\n",
    "    are pairs of numbers (e.g., (3, 5)).\n",
    "    \"\"\"\n",
    "    # BEGIN_YOUR_CODE (our solution is 1 line of code, but don't worry if you deviate from this)\n",
    "    return math.sqrt((loc1[1]-loc2[1])**2 + (loc1[0]-loc2[0])**2)\n",
    "    # return loc1[0], loc2[1]\n",
    "    # return math.sqrt((loc1[1]-loc2[1])**2)\n",
    "    # END_YOUR_CODE\n",
    "\n",
    "\n",
    "result = euclidean_distance((0,1), (1,1))\n",
    "print(result)"
   ]
  }
 ],
 "metadata": {
  "interpreter": {
   "hash": "cea52a25197b0576de88fc4f40dae35728fbae1ac98e26b71cffda8a59009fe0"
  },
  "kernelspec": {
   "display_name": "Python 3.7.11 ('uni_adelaide_torch')",
   "language": "python",
   "name": "python3"
  },
  "language_info": {
   "codemirror_mode": {
    "name": "ipython",
    "version": 3
   },
   "file_extension": ".py",
   "mimetype": "text/x-python",
   "name": "python",
   "nbconvert_exporter": "python",
   "pygments_lexer": "ipython3",
   "version": "3.7.11"
  },
  "orig_nbformat": 4
 },
 "nbformat": 4,
 "nbformat_minor": 2
}
