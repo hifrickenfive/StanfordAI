{
 "cells": [
  {
   "cell_type": "code",
   "execution_count": 15,
   "metadata": {},
   "outputs": [
    {
     "name": "stdout",
     "output_type": "stream",
     "text": [
      "['hello', 'python', 'how', 'are', 'you']\n",
      "are\n"
     ]
    }
   ],
   "source": [
    "string = 'hello python how are you'\n",
    "list_string = string.split()\n",
    "print(list_string)\n",
    "\n",
    "list_string.sort()\n",
    "print(list_string[0])\n"
   ]
  },
  {
   "cell_type": "code",
   "execution_count": 18,
   "metadata": {},
   "outputs": [
    {
     "name": "stdout",
     "output_type": "stream",
     "text": [
      "are\n"
     ]
    }
   ],
   "source": [
    "def find_alphabetically_first_word(text: str) -> str:\n",
    "    \"\"\"\n",
    "    Given a string |text|, return the word in |text| that comes first\n",
    "    lexicographically (i.e., the word that would come first after sorting).\n",
    "    A word is defined by a maximal sequence of characters without whitespaces.\n",
    "    You might find max() handy here. If the input text is an empty string, \n",
    "    it is acceptable to either return an empty string or throw an error.\n",
    "    \"\"\"\n",
    "    # BEGIN_YOUR_CODE (our solution is 1 line of code, but don't worry if you deviate from this)\n",
    "    return sorted(text.split())[0]\n",
    "    # END_YOUR_CODE\n",
    "\n",
    "result = find_alphabetically_first_word(\"hello python program how are you\")\n",
    "print(result)\n"
   ]
  },
  {
   "cell_type": "code",
   "execution_count": 28,
   "metadata": {},
   "outputs": [
    {
     "data": {
      "text/plain": [
       "1"
      ]
     },
     "execution_count": 28,
     "metadata": {},
     "output_type": "execute_result"
    }
   ],
   "source": [
    "loc1 = (0,1)\n",
    "loc1[1]"
   ]
  },
  {
   "cell_type": "code",
   "execution_count": 47,
   "metadata": {},
   "outputs": [
    {
     "name": "stdout",
     "output_type": "stream",
     "text": [
      "11.661903789690601\n"
     ]
    }
   ],
   "source": [
    "import math\n",
    "\n",
    "def euclidean_distance(loc1, loc2):\n",
    "    \"\"\"\n",
    "    Return the Euclidean distance between two locations, where the locations\n",
    "    are pairs of numbers (e.g., (3, 5)).\n",
    "    \"\"\"\n",
    "    # BEGIN_YOUR_CODE (our solution is 1 line of code, but don't worry if you deviate from this)\n",
    "    return math.sqrt((loc1[1]-loc2[1])**2 + (loc1[0]-loc2[0])**2)\n",
    "    # return loc1[0], loc2[1]\n",
    "    # return math.sqrt((loc1[1]-loc2[1])**2)\n",
    "    # END_YOUR_CODE\n",
    "\n",
    "\n",
    "result = euclidean_distance((-3,5), (7,-1))\n",
    "print(result)"
   ]
  },
  {
   "cell_type": "code",
   "execution_count": 15,
   "metadata": {},
   "outputs": [
    {
     "name": "stdout",
     "output_type": "stream",
     "text": [
      "{'shells', 'sea', 'shore'}\n"
     ]
    }
   ],
   "source": [
    "from collections import Counter\n",
    "\n",
    "def find_nonsingleton_words(text):\n",
    "    \"\"\"\n",
    "    Split the string |text| by whitespace and return the set of words that\n",
    "    occur more than once.\n",
    "    You might find it useful to use collections.defaultdict(int).\n",
    "    \"\"\"\n",
    "    # BEGIN_YOUR_CODE (our solution is 4 lines of code, but don't worry if you deviate from this)\n",
    "    word_list = text.split()\n",
    "    Counter(word_list)\n",
    "\n",
    "    # END_YOUR_CODE\n",
    "    return words\n",
    "\n",
    "\n",
    "text = \"she sells sea shells by the sea shore sea sea shells shore\"\n",
    "word_list = text.split()\n",
    "count_words = Counter(word_list)\n",
    "words_twice_or_more = {key for (key, value) in count_words.items() if value > 1}\n",
    "# for key, value in count_words.items():\n",
    "#     if value > 1:\n",
    "#         words_twice_or_more.add(key)\n",
    "print(words_twice_or_more)\n"
   ]
  },
  {
   "cell_type": "code",
   "execution_count": 19,
   "metadata": {},
   "outputs": [
    {
     "name": "stdout",
     "output_type": "stream",
     "text": [
      "{2, 3}\n",
      "2\n",
      "2\n"
     ]
    }
   ],
   "source": [
    "v1 = {2:3, 3:-7}\n",
    "v2 = {1:2, 2:3, 3:1}\n",
    "common_keys = set(v1.keys()).intersection(v2.keys())\n",
    "print(common_keys)\n",
    "result = 0\n",
    "for key in common_keys:\n",
    "    result += v1[key] * v2[key]\n",
    "print(result)\n",
    "\n",
    "dot_product = sum([(v1[key]*v2[key]) for key in set(v1.keys()).intersection(v2.keys())])\n"
   ]
  },
  {
   "cell_type": "code",
   "execution_count": 56,
   "metadata": {},
   "outputs": [
    {
     "name": "stdout",
     "output_type": "stream",
     "text": [
      "3\n",
      "-3\n",
      "0\n",
      "4\n"
     ]
    }
   ],
   "source": [
    "def sparse_vector_dot_product(v1, v2) -> float:\n",
    "    \"\"\"\n",
    "    Given two sparse vectors (vectors where most of the elements are zeros)\n",
    "    |v1| and |v2|, each represented as collections.defaultdict(float), return\n",
    "    their dot product.\n",
    "\n",
    "    You might find it useful to use sum() and a list comprehension.\n",
    "    This function will be useful later for linear classifiers.\n",
    "    Note: A sparse vector has most of its entries as 0.\n",
    "    \"\"\"\n",
    "    # BEGIN_YOUR_CODE (our solution is 1 line of code, but don't worry if you deviate from this)\n",
    "    # return sum([(v1[key]*v2[key]) for key in set(v1.keys()).intersection(v2.keys())])\n",
    "    return sum([(v1[key]*v2[key]) for key in set(v1)&set(v2)])\n",
    "\n",
    "    # END_YOUR_CODE\n",
    "v1 = {1:1, 2:1, 3:1}\n",
    "v2 = {1:1, 2:1, 3:1}\n",
    "# 3\n",
    "print(sparse_vector_dot_product(v1, v2))\n",
    "\n",
    "v1 = {1:-1, 2:-1, 3:-1}\n",
    "v2 = {1:1, 2:1, 3:1}\n",
    "# -3\n",
    "print(sparse_vector_dot_product(v1, v2))\n",
    "\n",
    "v1 = {1:6, 2:-2, 3:-1}\n",
    "v2 = {1:2, 2:5, 3:2}\n",
    "# 0\n",
    "print(sparse_vector_dot_product(v1, v2))\n",
    "\n",
    "v1 = {1:1, 3:-2}\n",
    "v2 = {1:2, 2:1, 3:-1}\n",
    "# 4\n",
    "\n",
    "print(sparse_vector_dot_product(v1, v2))"
   ]
  },
  {
   "cell_type": "code",
   "execution_count": 57,
   "metadata": {},
   "outputs": [
    {
     "name": "stdout",
     "output_type": "stream",
     "text": [
      "{1: 11, 3: -7, 2: 5}\n"
     ]
    }
   ],
   "source": [
    "v1 = {1:1, 3:-2}\n",
    "v2 = {1:2, 2:1, 3:-1}\n",
    "scale = 5\n",
    "\n",
    "for key in v2:\n",
    "    if key not in v1:\n",
    "        v1[key] = scale*v2[key]\n",
    "    else:\n",
    "        v1[key] += scale*v2[key]\n",
    "\n",
    "print(v1)\n",
    "# v1.get(key, scale*v2[key]) "
   ]
  }
 ],
 "metadata": {
  "interpreter": {
   "hash": "cea52a25197b0576de88fc4f40dae35728fbae1ac98e26b71cffda8a59009fe0"
  },
  "kernelspec": {
   "display_name": "Python 3.7.11 ('uni_adelaide_torch')",
   "language": "python",
   "name": "python3"
  },
  "language_info": {
   "codemirror_mode": {
    "name": "ipython",
    "version": 3
   },
   "file_extension": ".py",
   "mimetype": "text/x-python",
   "name": "python",
   "nbconvert_exporter": "python",
   "pygments_lexer": "ipython3",
   "version": "3.7.11"
  },
  "orig_nbformat": 4
 },
 "nbformat": 4,
 "nbformat_minor": 2
}
