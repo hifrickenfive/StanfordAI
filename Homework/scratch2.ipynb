{
 "cells": [
  {
   "cell_type": "code",
   "execution_count": 1,
   "metadata": {},
   "outputs": [
    {
     "name": "stdout",
     "output_type": "stream",
     "text": [
      "defaultdict(<class 'list'>, {'the': ['cat', 'mouse'], 'cat': ['and'], 'and': ['the']})\n"
     ]
    }
   ],
   "source": [
    "import collections\n",
    "\n",
    "sentence  = 'the cat and the mouse'\n",
    "word_list = sentence.split()\n",
    "word_dict = collections.defaultdict(list)\n",
    "for i in range(len(word_list)-1):\n",
    "    word_dict[word_list[i]].append(word_list[i+1])\n",
    "\n",
    "print(word_dict)"
   ]
  },
  {
   "cell_type": "code",
   "execution_count": 3,
   "metadata": {},
   "outputs": [],
   "source": [
    "def dfs(all_sentences, visited, graph, key, current_length, MAX_LENGTH):\n",
    "    # print(visited, current_length)\n",
    "\n",
    "    # Base case 1: new_sentence length equals original sentence\n",
    "    if len(visited) == MAX_LENGTH:\n",
    "        s = ' '.join(visited)\n",
    "        all_sentences.append(s)\n",
    "        return\n",
    "    else:\n",
    "        visited.append(key)\n",
    "        current_length += 1\n",
    "\n",
    "        # Base case 2: The terminal word of the original sentence is reached\n",
    "        if len(visited) == MAX_LENGTH and graph[key] == []:\n",
    "            s = ' '.join(visited)\n",
    "            all_sentences.append(s)\n",
    "            return\n",
    "\n",
    "        for neighbour in graph[key]:\n",
    "            if len(graph[key]) > 1:\n",
    "                new_visited = visited.copy()\n",
    "                dfs(all_sentences, new_visited, graph, neighbour, current_length, MAX_LENGTH)\n",
    "            else:\n",
    "                dfs(all_sentences, visited, graph, neighbour, current_length, MAX_LENGTH)\n",
    "\n",
    "\n",
    "visited = list() # Set to keep track of visited nodes of graph.\n",
    "all_sentences = list()\n",
    "dfs(all_sentences, visited, word_dict, 'and', 0, 5)\n",
    "print(all_sentences)"
   ]
  },
  {
   "cell_type": "code",
   "execution_count": 52,
   "metadata": {},
   "outputs": [
    {
     "name": "stdout",
     "output_type": "stream",
     "text": [
      "['the cat and the cat', 'the cat and the mouse']\n",
      "the\n",
      "cat\n",
      "and\n",
      "mouse\n",
      "dict_keys(['the', 'cat', 'and', 'mouse'])\n"
     ]
    }
   ],
   "source": [
    "print(all_sentences)\n",
    "\n",
    "for key in word_dict:\n",
    "    print(key)\n",
    "\n",
    "print(word_dict.keys())"
   ]
  },
  {
   "cell_type": "code",
   "execution_count": 55,
   "metadata": {},
   "outputs": [
    {
     "name": "stdout",
     "output_type": "stream",
     "text": [
      "[['the cat and the cat', 'the cat and the mouse'], ['cat and the cat and'], ['and the cat and the', 'and the cat and the']]\n"
     ]
    }
   ],
   "source": [
    "MAX_LENGTH = len(word_list)\n",
    "final_sentences = list()\n",
    "# for key in word_dict:\n",
    "for key in ['the', 'cat', 'and']:\n",
    "    visited = list()\n",
    "    all_sentences = list()\n",
    "    dfs(all_sentences, visited, word_dict, key, 0, MAX_LENGTH)\n",
    "    final_sentences.append(all_sentences)\n",
    "\n",
    "print(final_sentences)\n",
    "# - Input: 'the cat and the mouse'\n",
    "# - Output: ['and the cat and the', 'the cat and the mouse',\n",
    "#             'the cat and the cat', 'cat and the cat and']\n",
    "#         (Reordered versions of this list are allowed.)"
   ]
  }
 ],
 "metadata": {
  "interpreter": {
   "hash": "cea52a25197b0576de88fc4f40dae35728fbae1ac98e26b71cffda8a59009fe0"
  },
  "kernelspec": {
   "display_name": "Python 3.7.11 ('uni_adelaide_torch')",
   "language": "python",
   "name": "python3"
  },
  "language_info": {
   "codemirror_mode": {
    "name": "ipython",
    "version": 3
   },
   "file_extension": ".py",
   "mimetype": "text/x-python",
   "name": "python",
   "nbconvert_exporter": "python",
   "pygments_lexer": "ipython3",
   "version": "3.7.11"
  },
  "orig_nbformat": 4
 },
 "nbformat": 4,
 "nbformat_minor": 2
}
