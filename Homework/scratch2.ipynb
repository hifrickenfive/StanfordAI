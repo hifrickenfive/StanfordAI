{
 "cells": [
  {
   "cell_type": "code",
   "execution_count": 52,
   "metadata": {},
   "outputs": [
    {
     "name": "stdout",
     "output_type": "stream",
     "text": [
      "defaultdict(<class 'list'>, {'the': ['cat', 'mouse'], 'cat': ['and'], 'and': ['the']})\n"
     ]
    }
   ],
   "source": [
    "import collections\n",
    "\n",
    "sentence  = 'the cat and the mouse'\n",
    "word_list = sentence.split()\n",
    "word_dict = collections.defaultdict(list)\n",
    "for i in range(len(word_list)-1):\n",
    "    word_dict[word_list[i]].append(word_list[i+1])\n",
    "\n",
    "print(word_dict)"
   ]
  },
  {
   "cell_type": "code",
   "execution_count": 53,
   "metadata": {},
   "outputs": [
    {
     "name": "stdout",
     "output_type": "stream",
     "text": [
      "dict_keys(['the', 'cat', 'and'])\n"
     ]
    }
   ],
   "source": [
    "print(word_dict.keys())"
   ]
  },
  {
   "cell_type": "code",
   "execution_count": 70,
   "metadata": {},
   "outputs": [
    {
     "name": "stdout",
     "output_type": "stream",
     "text": [
      "['the cat and the cat', 'the cat and the mouse']\n"
     ]
    }
   ],
   "source": [
    "def dfs(all_sentences:list, current_sentence:list, graph:dict, key:str, current_length:int, MAX_LENGTH:int):\n",
    "    current_sentence.append(key)\n",
    "    current_length += 1\n",
    "\n",
    "    # Base case: new_sentence length equals original sentence\n",
    "    if len(current_sentence) == MAX_LENGTH:\n",
    "        all_sentences.append(' '.join(current_sentence))\n",
    "        return\n",
    "    else:\n",
    "        for neighbour in graph[key]:\n",
    "            if len(graph[key]) > 1: # Spawn another list for each branch\n",
    "                dfs(all_sentences,  current_sentence.copy(), graph, neighbour, current_length, MAX_LENGTH)\n",
    "            else:\n",
    "                dfs(all_sentences, current_sentence, graph, neighbour, current_length, MAX_LENGTH)\n",
    "\n",
    "\n",
    "current_sentence = list()\n",
    "all_sentences = list()\n",
    "dfs(all_sentences, current_sentence, word_dict, 'the', 0, 5)\n",
    "print(all_sentences)"
   ]
  },
  {
   "cell_type": "code",
   "execution_count": 55,
   "metadata": {},
   "outputs": [
    {
     "name": "stdout",
     "output_type": "stream",
     "text": [
      "dict_keys(['the', 'cat', 'and', 'mouse'])\n"
     ]
    }
   ],
   "source": [
    "print(word_dict.keys())"
   ]
  },
  {
   "cell_type": "code",
   "execution_count": 56,
   "metadata": {},
   "outputs": [
    {
     "name": "stdout",
     "output_type": "stream",
     "text": [
      "['the cat and the cat', 'the cat and the mouse']\n",
      "the\n",
      "cat\n",
      "and\n",
      "mouse\n",
      "dict_keys(['the', 'cat', 'and', 'mouse'])\n"
     ]
    }
   ],
   "source": [
    "print(all_sentences)\n",
    "\n",
    "for key in word_dict:\n",
    "    print(key)\n",
    "\n",
    "print(word_dict.keys())"
   ]
  },
  {
   "cell_type": "code",
   "execution_count": 76,
   "metadata": {},
   "outputs": [
    {
     "name": "stdout",
     "output_type": "stream",
     "text": [
      "['the cat and the cat', 'the cat and the mouse', 'cat and the cat and', 'and the cat and the']\n"
     ]
    }
   ],
   "source": [
    "MAX_LENGTH = len(word_list)\n",
    "all_sentences = list()\n",
    "for key in word_dict.keys():\n",
    "    subset_of_all_sentences = list()\n",
    "    current_sentence = list()\n",
    "    dfs(subset_of_all_sentences, current_sentence, word_dict, key, 0, MAX_LENGTH)\n",
    "    all_sentences.append(subset_of_all_sentences)\n",
    "\n",
    "all_sentences = sum(all_sentences, [])  # Flatten nested list\n",
    "print(all_sentences)\n",
    "\n",
    "# - Input: 'the cat and the mouse'\n",
    "# - Output: ['and the cat and the', 'the cat and the mouse',\n",
    "#             'the cat and the cat', 'cat and the cat and']\n",
    "#         (Reordered versions of this list are allowed.)"
   ]
  }
 ],
 "metadata": {
  "interpreter": {
   "hash": "cea52a25197b0576de88fc4f40dae35728fbae1ac98e26b71cffda8a59009fe0"
  },
  "kernelspec": {
   "display_name": "Python 3.7.11 ('uni_adelaide_torch')",
   "language": "python",
   "name": "python3"
  },
  "language_info": {
   "codemirror_mode": {
    "name": "ipython",
    "version": 3
   },
   "file_extension": ".py",
   "mimetype": "text/x-python",
   "name": "python",
   "nbconvert_exporter": "python",
   "pygments_lexer": "ipython3",
   "version": "3.7.11"
  },
  "orig_nbformat": 4
 },
 "nbformat": 4,
 "nbformat_minor": 2
}
