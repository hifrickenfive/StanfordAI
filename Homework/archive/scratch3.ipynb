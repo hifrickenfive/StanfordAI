{
 "cells": [
  {
   "cell_type": "code",
   "execution_count": 44,
   "metadata": {},
   "outputs": [
    {
     "name": "stdout",
     "output_type": "stream",
     "text": [
      "[['the cat and the cat', 'the cat and the mouse'], ['cat and the cat and'], ['and the cat and the']]\n"
     ]
    }
   ],
   "source": [
    "import collections\n",
    "\n",
    "def mutate_sentences(sentence:str):\n",
    "    word_list = sentence.split()\n",
    "    MAX_LENGTH = len(word_list)\n",
    "\n",
    "    word_dict = collections.defaultdict(list) # create lookup\n",
    "    for i in range(len(word_list)-1):\n",
    "        word_dict[word_list[i]].append(word_list[i+1])\n",
    "\n",
    "    def dfs(sentences:list, current_sentence:list, lookup:dict, key:str, current_length:int, MAX_LENGTH:int):\n",
    "        current_sentence.append(key)\n",
    "        current_length += 1\n",
    "\n",
    "        if len(current_sentence) == MAX_LENGTH: # Base case\n",
    "            sentences.append(' '.join(current_sentence))\n",
    "            return\n",
    "        elif key not in lookup.keys(): # Block use of the last word of input sentence in the middle of new sentence\n",
    "            return\n",
    "        else:\n",
    "            for neighbour in lookup[key]:\n",
    "                if len(lookup[key]) > 1: # Spawn copy of list for each branch\n",
    "                    dfs(sentences,  current_sentence.copy(), lookup, neighbour, current_length, MAX_LENGTH)\n",
    "                else:\n",
    "                    dfs(sentences, current_sentence, lookup, neighbour, current_length, MAX_LENGTH)\n",
    "\n",
    "    all_sentences = list()\n",
    "    for key in word_dict.keys():\n",
    "        subset_of_all_sentences = list()\n",
    "        current_sentence = list()\n",
    "        dfs(subset_of_all_sentences, current_sentence, word_dict, key, 0, MAX_LENGTH)\n",
    "        all_sentences.append(subset_of_all_sentences)\n",
    "\n",
    "    return all_sentences\n",
    "\n",
    "sentence  = 'the cat and the mouse'\n",
    "result = mutate_sentences(sentence)\n",
    "print(result)\n"
   ]
  }
 ],
 "metadata": {
  "interpreter": {
   "hash": "cea52a25197b0576de88fc4f40dae35728fbae1ac98e26b71cffda8a59009fe0"
  },
  "kernelspec": {
   "display_name": "Python 3.7.11 ('uni_adelaide_torch')",
   "language": "python",
   "name": "python3"
  },
  "language_info": {
   "codemirror_mode": {
    "name": "ipython",
    "version": 3
   },
   "file_extension": ".py",
   "mimetype": "text/x-python",
   "name": "python",
   "nbconvert_exporter": "python",
   "pygments_lexer": "ipython3",
   "version": "3.7.11"
  },
  "orig_nbformat": 4
 },
 "nbformat": 4,
 "nbformat_minor": 2
}
