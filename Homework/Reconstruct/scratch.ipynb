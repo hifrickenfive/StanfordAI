{
 "cells": [
  {
   "cell_type": "code",
   "execution_count": 70,
   "metadata": {},
   "outputs": [],
   "source": [
    "from util import *\n",
    "from submission import *\n",
    "from wordsegUtil import *\n",
    "import graderUtil\n"
   ]
  },
  {
   "cell_type": "code",
   "execution_count": 61,
   "metadata": {},
   "outputs": [
    {
     "name": "stdout",
     "output_type": "stream",
     "text": [
      "0\n",
      "True\n",
      "[('West', 0, 1), ('East', 2, 2)]\n",
      "(5, 5)\n",
      "False\n",
      "0\n"
     ]
    }
   ],
   "source": [
    "test =  NumberLineSearchProblem()\n",
    "print(test.startState())\n",
    "print(test.isEnd(10))\n",
    "print(test.succAndCost(1)) # GetNeighbours and the cost. This allows you go\n",
    "\n",
    "test = GridSearchProblem(5, 5, 5)\n",
    "print(test.startState())\n",
    "print(test.isEnd((5,5)))\n",
    "actions = test.succAndCost((5,5))\n",
    "costs = [action[2] for action in actions]\n",
    "actionChoice = costs.index(min(costs)) \n",
    "print(actionChoice)"
   ]
  },
  {
   "cell_type": "code",
   "execution_count": 62,
   "metadata": {},
   "outputs": [],
   "source": [
    "# Load doc. Set up language model\n",
    "path2doc = 'leo-will.txt'\n",
    "unigramCost, bigramModel = makeLanguageModels(path2doc)"
   ]
  },
  {
   "cell_type": "code",
   "execution_count": 63,
   "metadata": {},
   "outputs": [
    {
     "name": "stdout",
     "output_type": "stream",
     "text": [
      "17\n"
     ]
    }
   ],
   "source": [
    "# Define instance\n",
    "query = 'whatwhatinthebutt'\n",
    "print(len(query))\n",
    "test = SegmentationProblem(query, unigramCost)\n"
   ]
  },
  {
   "cell_type": "code",
   "execution_count": 64,
   "metadata": {},
   "outputs": [
    {
     "name": "stdout",
     "output_type": "stream",
     "text": [
      "whatw\n",
      "h\n"
     ]
    }
   ],
   "source": [
    "print(query[0:5])\n",
    "print(query[5])"
   ]
  },
  {
   "cell_type": "code",
   "execution_count": 65,
   "metadata": {},
   "outputs": [
    {
     "name": "stdout",
     "output_type": "stream",
     "text": [
      "0\n",
      "False\n",
      "[('', 4, 22.79028485862769), ('w', 5, 12.609278536862229), ('wh', 6, 13.302425717422175), ('wha', 7, 22.79028485862769), ('what', 8, 5.478779786587222), ('whati', 9, 22.79028485862769), ('whatin', 10, 24.68740484351357), ('whatint', 11, 26.584524828399452), ('whatinth', 12, 28.481644813285335), ('whatinthe', 13, 30.37876479817122), ('whatintheb', 14, 32.275884783057094), ('whatinthebu', 15, 34.17300476794298), ('whatinthebut', 16, 36.07012475282886), ('whatinthebutt', 17, 37.96724473771474)]\n"
     ]
    }
   ],
   "source": [
    "# Probe\n",
    "print(test.startState())\n",
    "print(test.isEnd(query))\n",
    "answer = test.succAndCost(4)\n",
    "print(answer)"
   ]
  },
  {
   "cell_type": "code",
   "execution_count": 66,
   "metadata": {},
   "outputs": [],
   "source": [
    "ucs = util.UniformCostSearch(verbose=0)\n",
    "ucs.solve(SegmentationProblem(query, unigramCost))\n"
   ]
  },
  {
   "cell_type": "code",
   "execution_count": 6,
   "metadata": {},
   "outputs": [
    {
     "name": "stdout",
     "output_type": "stream",
     "text": [
      "\n",
      "t\n",
      "th\n",
      "thr\n",
      "thre\n"
     ]
    }
   ],
   "source": [
    "query = 'three'\n",
    "startIdx = 0\n",
    "for i in range(startIdx, len(query)):\n",
    "    print(query[startIdx:startIdx+i])\n",
    "\n",
    "\n"
   ]
  }
 ],
 "metadata": {
  "interpreter": {
   "hash": "468819c82e791b0f9a8e64a9b2ca550cabcbea14dfb8d98bf6b8daf534ac0400"
  },
  "kernelspec": {
   "display_name": "Python 3.8.8 ('base')",
   "language": "python",
   "name": "python3"
  },
  "language_info": {
   "codemirror_mode": {
    "name": "ipython",
    "version": 3
   },
   "file_extension": ".py",
   "mimetype": "text/x-python",
   "name": "python",
   "nbconvert_exporter": "python",
   "pygments_lexer": "ipython3",
   "version": "3.8.8"
  },
  "orig_nbformat": 4
 },
 "nbformat": 4,
 "nbformat_minor": 2
}
