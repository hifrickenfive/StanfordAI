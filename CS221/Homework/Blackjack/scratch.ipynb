{
 "cells": [
  {
   "cell_type": "code",
   "execution_count": 3,
   "metadata": {},
   "outputs": [
    {
     "name": "stdout",
     "output_type": "stream",
     "text": [
      "1\n",
      "test\n",
      "(1, 2, 3)\n"
     ]
    }
   ],
   "source": [
    "test = (1, 'test', (1,2,3))\n",
    "\n",
    "num, action, val = test\n",
    "print(num)\n",
    "print(action)\n",
    "print(val)\n"
   ]
  },
  {
   "cell_type": "code",
   "execution_count": 12,
   "metadata": {},
   "outputs": [
    {
     "name": "stdout",
     "output_type": "stream",
     "text": [
      "[1, 'test', (1, 2, 3)]\n",
      "[0, 'test', (1, 2, 3)]\n"
     ]
    }
   ],
   "source": [
    "new = list(test)\n",
    "print(new)\n",
    "\n",
    "new[0] = new[0] -1\n",
    "print(new)\n"
   ]
  }
 ],
 "metadata": {
  "interpreter": {
   "hash": "468819c82e791b0f9a8e64a9b2ca550cabcbea14dfb8d98bf6b8daf534ac0400"
  },
  "kernelspec": {
   "display_name": "Python 3.8.8 ('base')",
   "language": "python",
   "name": "python3"
  },
  "language_info": {
   "codemirror_mode": {
    "name": "ipython",
    "version": 3
   },
   "file_extension": ".py",
   "mimetype": "text/x-python",
   "name": "python",
   "nbconvert_exporter": "python",
   "pygments_lexer": "ipython3",
   "version": "3.8.8"
  },
  "orig_nbformat": 4
 },
 "nbformat": 4,
 "nbformat_minor": 2
}
